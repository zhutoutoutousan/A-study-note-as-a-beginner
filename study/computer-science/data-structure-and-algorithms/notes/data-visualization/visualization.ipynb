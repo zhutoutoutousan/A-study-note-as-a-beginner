{
 "cells": [
  {
   "cell_type": "code",
   "execution_count": 1,
   "metadata": {},
   "outputs": [
    {
     "data": {
      "text/plain": [
       "array([['2020033011.00.01.04', '\\t1', '\\t1', ..., '\\t1', '\\t1', '\\t1'],\n",
       "       ['2020033011.00.06.04', '\\t1', '\\t1', ..., '\\t1', '\\t1', '\\t1'],\n",
       "       ['2020033011.00.11.04', '\\t1', '\\t1', ..., '\\t1', '\\t1', '\\t1'],\n",
       "       ...,\n",
       "       ['2020033015.32.52.31', '\\t1', '\\t1', ..., '\\t1', '\\t1', '\\t1'],\n",
       "       ['2020033015.32.57.31', '\\t1', '\\t1', ..., '\\t1', '\\t1', '\\t1'],\n",
       "       ['2020033015.32.57.31', '0', '0', ..., '0', '0', '']], dtype='<U32')"
      ]
     },
     "execution_count": 1,
     "metadata": {},
     "output_type": "execute_result"
    }
   ],
   "source": [
    "import sys\n",
    "import csv\n",
    "import glob\n",
    "import errno\n",
    "import numpy as np\n",
    "import matplotlib.pyplot as plt\n",
    "from matplotlib.colors import LogNorm\n",
    "\n",
    "path = './FSP-212-data/20200330/*.csv'\n",
    "da = np.array([])\n",
    "files = glob.glob(path)\n",
    "title = ['time', '\\tLoad0', '\\tLoad1', '\\tLoad2', '\\tLoad3', '\\tLoad4', '\\tLoad5', '\\tLoad6']\n",
    "\n",
    "for name in files:\n",
    "    try:\n",
    "        with open(name) as csvDataFile:\n",
    "            csvReader = csv.reader(csvDataFile)\n",
    "            for row in csvReader:\n",
    "                if(row != title):\n",
    "                    da = np.append(da,row,axis=0)\n",
    "    except IOError as exc:\n",
    "        if exc.errno != errno.EISDIR:\n",
    "            raise\n",
    "            \n",
    "da.reshape(int(da.size) // 8, 8)"
   ]
  },
  {
   "cell_type": "code",
   "execution_count": 27,
   "metadata": {},
   "outputs": [
    {
     "data": {
      "text/plain": [
       "array([['2020033011.00.01.04', '\\t1', '\\t1', ..., '\\t1', '\\t1', '\\t1'],\n",
       "       ['2020033011.00.06.04', '\\t1', '\\t1', ..., '\\t1', '\\t1', '\\t1'],\n",
       "       ['2020033011.00.11.04', '\\t1', '\\t1', ..., '\\t1', '\\t1', '\\t1'],\n",
       "       ...,\n",
       "       ['2020033015.32.47.31', '\\t1', '\\t1', ..., '\\t1', '\\t1', '\\t1'],\n",
       "       ['2020033015.32.52.31', '\\t1', '\\t1', ..., '\\t1', '\\t1', '\\t1'],\n",
       "       ['2020033015.32.57.31', '\\t1', '\\t1', ..., '\\t1', '\\t1', '\\t1']],\n",
       "      dtype='<U32')"
      ]
     },
     "execution_count": 27,
     "metadata": {},
     "output_type": "execute_result"
    }
   ],
   "source": [
    "des = da.reshape(int(da.size) // 8, 8)\n",
    "des"
   ]
  },
  {
   "cell_type": "code",
   "execution_count": 28,
   "metadata": {},
   "outputs": [
    {
     "data": {
      "text/plain": [
       "array([['\\t1', '\\t1', '\\t1', ..., '\\t1', '\\t1', '\\t1'],\n",
       "       ['\\t1', '\\t1', '\\t1', ..., '\\t1', '\\t1', '\\t1'],\n",
       "       ['\\t1', '\\t1', '\\t1', ..., '\\t1', '\\t1', '\\t1'],\n",
       "       ...,\n",
       "       ['\\t1', '\\t1', '\\t1', ..., '\\t1', '\\t1', '\\t1'],\n",
       "       ['\\t1', '\\t1', '\\t1', ..., '\\t1', '\\t1', '\\t1'],\n",
       "       ['\\t1', '\\t1', '\\t1', ..., '\\t1', '\\t1', '\\t1']], dtype='<U32')"
      ]
     },
     "execution_count": 28,
     "metadata": {},
     "output_type": "execute_result"
    }
   ],
   "source": [
    "dist = np.array(des, copy=True)\n",
    "numbers = np.delete(dist, 0,1 )\n",
    "time = np.delete(dist, np.s_[1:],1)\n",
    "numbers"
   ]
  },
  {
   "cell_type": "code",
   "execution_count": 29,
   "metadata": {},
   "outputs": [],
   "source": [
    "rows = numbers.shape[0]\n",
    "cols = numbers.shape[1]\n",
    "for i in range(0, rows):\n",
    "    for j in range(0,cols):\n",
    "        numbers[i,j] = int(numbers[i,j])\n",
    "    \n"
   ]
  },
  {
   "cell_type": "code",
   "execution_count": 30,
   "metadata": {
    "scrolled": true
   },
   "outputs": [
    {
     "data": {
      "image/png": "[encoded data removed]",
      "text/plain": [
       "<Figure size 432x288 with 1 Axes>"
      ]
     },
     "metadata": {
      "needs_background": "light"
     },
     "output_type": "display_data"
    }
   ],
   "source": [
    "fig, (ax0) = plt.subplots(1)\n",
    "\n",
    "c = ax0.pcolor(numbers.astype(np.float).T)\n",
    "ax0.set_title('2020-03-30')\n",
    "\n",
    "\n",
    "fig.tight_layout()\n",
    "# fig.savefig('plot20200330.pdf')\n",
    "plt.show()\n"
   ]
  }
 ],
 "metadata": {
  "kernelspec": {
   "display_name": "Python 3",
   "language": "python",
   "name": "python3"
  },
  "language_info": {
   "codemirror_mode": {
    "name": "ipython",
    "version": 3
   },
   "file_extension": ".py",
   "mimetype": "text/x-python",
   "name": "python",
   "nbconvert_exporter": "python",
   "pygments_lexer": "ipython3",
   "version": "3.7.5"
  }
 },
 "nbformat": 4,
 "nbformat_minor": 2
}
